{
 "cells": [
  {
   "metadata": {},
   "cell_type": "markdown",
   "source": [
    "# 12장 벡터데이터베이스로 확장하기: RAG 구현하기\n",
    "### 학습목표\n",
    "- RAG(Retrieval Augmented Generation)에서 데이터를 저장하고 검색할 때 저장소 역할을 하는 벡터 데이터베이스에 대해 자세히 알아본다.\n",
    "- 벡터 데이터베이스가 등장한 배경을 딥러닝의 발전과 관련하여 살펴본다.\n",
    "- 벡터 데이터베이스를 어떻게 구분할 수 잇는지, 자신에게 맞는 데이터베이스를 선택하기 위한 기준을 제시한다.\n",
    "- 벡터 데이터베이스의 작동 원리를 알아본다.\n",
    "- KNN, ANN, HNSW 등 벡터 데이터베이스에서 사용하는 알고리즘에 대해 알아본다.\n",
    "- Pinecone의 사용법을 알아보고, 이미지와 텍스트를 교차 검색할 수 있는 멀티 모달 검색을 구현해 본다."
   ],
   "id": "1824ba6097718921"
  },
  {
   "metadata": {
    "collapsed": true
   },
   "cell_type": "code",
   "source": "!pip install pinecone-client setence-transformers datasets faiss-cpu transformers openai",
   "id": "initial_id",
   "outputs": [],
   "execution_count": null
  }
 ],
 "metadata": {
  "kernelspec": {
   "display_name": "Python 3",
   "language": "python",
   "name": "python3"
  },
  "language_info": {
   "codemirror_mode": {
    "name": "ipython",
    "version": 2
   },
   "file_extension": ".py",
   "mimetype": "text/x-python",
   "name": "python",
   "nbconvert_exporter": "python",
   "pygments_lexer": "ipython2",
   "version": "2.7.6"
  }
 },
 "nbformat": 4,
 "nbformat_minor": 5
}
