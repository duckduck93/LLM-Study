{
 "cells": [
  {
   "cell_type": "markdown",
   "id": "2e9fe8d8-1c74-4145-b23d-8661a7920510",
   "metadata": {
    "collapsed": true,
    "jupyter": {
     "outputs_hidden": true
    }
   },
   "source": [
    "# 12.2 벡터 데이터베이스 작동 원리\n",
    "\n",
    "- KNN (K-Nearest Neighbor)\n",
    "- ANN (Approximate Nearest Neighbor)"
   ]
  },
  {
   "cell_type": "markdown",
   "id": "85f93a0b-c476-4c4a-90e6-1d62a45dff1d",
   "metadata": {},
   "source": [
    "## 12.2.1 KNN 검색과 그 한계\n",
    "- 검색하려는 벡터와 가장 가까운 K개의 이웃 벡터를 찾는 검색 방식\n",
    "\n",
    "### 벡터 검색의 성능 지표\n",
    "- 색인 단계: 메모리 사용량, 색인 시간\n",
    "- 검색 단계: 검색 시간, 재현율(실제로 가장 가까운 K개의 정답 데이터 중 몇 개가 검색 결과로 반환됐는지 비율)"
   ]
  },
  {
   "cell_type": "code",
   "id": "a8add6d2-2c11-415b-b5b1-a62da6f1af01",
   "metadata": {},
   "source": [
    "# 예제 12.1\n",
    "\n",
    "# !wget ftp://ftp.irisa.fr/local/texmex/corpus/siftsmall.tar.gz\n",
    "# !tar -xf sift.tar.gz\n",
    "# !mkdir -p data/sift1M\n",
    "# !mv sift/* data/sift1M\n",
    "\n",
    "# 서버 오류로 인해 파일 다운로드 불가 아래 링크의 데이터 활용\n",
    "# https://huggingface.co/datasets/qbo-odp/sift1m/tree/main"
   ],
   "outputs": [],
   "execution_count": null
  },
  {
   "cell_type": "code",
   "id": "c7c7380c-aa71-49a1-9db7-631dc5ec16f4",
   "metadata": {},
   "source": [
    "# 예제 12.2\n",
    "\n",
    "import psutil\n",
    "\n",
    "def get_memory_usage_mb(): # 현재 프로세스가 사용하는 메모리 사용량을 메가바이트 단위로 반환\n",
    "    process = psutil.Process()\n",
    "    memory_info = process.memory_info()\n",
    "    return memory_info.rss / (1024 * 1024)\n",
    "\n",
    "import time\n",
    "import faiss\n",
    "from faiss.contrib.datasets import DatasetSIFT1M\n",
    "\n",
    "ds = DatasetSIFT1M() # DatasetSIFT1M 클래스를 사용해 데이터셋을 불러온다.\n",
    "\n",
    "xq = ds.get_queries() # 검색 데이터\n",
    "xb = ds.get_database() # 저장된 벡터 데이터\n",
    "gt = ds.get_groundtruth() # 실제 정답 데이터"
   ],
   "outputs": [],
   "execution_count": null
  },
  {
   "cell_type": "code",
   "id": "93223d80-db5d-46e8-8e82-f4ac303ae39b",
   "metadata": {},
   "source": [
    "# 예제 12.3\n",
    "\n",
    "k=1\n",
    "d = xq.shape[1]\n",
    "nq = 1000 # 검색 데이터 수\n",
    "xq = xq[:nq] # 검색 데이터\n",
    "\n",
    "for i in range(1, 10, 2):\n",
    "    start_memory = get_memory_usage_mb()\n",
    "    start_indexing = time.time()\n",
    "    index = faiss.IndexFlatL2(d) # 인덱스 생성\n",
    "    index.add(xb[:(i+1)*100000]) # 임베딩 색인\n",
    "    end_indexing = time.time()\n",
    "    end_memory = get_memory_usage_mb()\n",
    "\n",
    "    t0 = time.time()\n",
    "    D, I = index.search(xq, k) # 검색\n",
    "    t1 = time.time()\n",
    "    print(f\"데이터 {(i+1)*100000}개:\")\n",
    "    print(f\"색인: {(end_indexing - start_indexing) * 1000 :.3f} ms ({end_memory - start_memory:.3f} MB) 검색: {(t1 - t0) * 1000 / nq :.3f} ms\")"
   ],
   "outputs": [],
   "execution_count": null
  },
  {
   "cell_type": "markdown",
   "id": "ffd39760-fa78-4f11-80c1-7fb45fa74e71",
   "metadata": {},
   "source": [
    "### 장점\n",
    "- 재현율 100%\n",
    "### 단점\n",
    "- 데이터셋이 커질수록 성능 지표가 떨어짐"
   ]
  },
  {
   "cell_type": "markdown",
   "id": "916522aa-bd16-403b-8591-226276f50423",
   "metadata": {},
   "source": [
    "## 12.2.2 ANN 검색이란\n",
    "- ANN (Approximate Nearest Neighbor) 근사 최근접 이웃\n",
    "- 대용량 데이터셋에서 주어진 쿼리 항목과 가장 유사한 항목을 효율적으로 찾는데 사용되는 기술\n",
    "- 약간의 정확도를 희생하는 대신 더 빠른 검색 속도를 제공\n",
    "- IVF (Inverted File Index)\n",
    "    - 데이터셋 벡터들을 클러스터로 그룹화하는 근사 최근접 이웃 검색 알고리즘\n",
    "    - 전체 데이터셋 대신 몇개의 클러스터만 검색하는 전략\n",
    "    - 인덱싱 시점: 데이터를 가져와서 중심점을 형성\n",
    "    - 쿼리 시점: 가장 가까운 중심점을 찾은 다음, 해당 중심점 내에서 가장 가까운 데이터 포인트를 찾음\n",
    "- HNSW (Hierachical Navigable Small World)\n",
    "    - 그래프 기반 인덱싱 구조\n",
    "    - 상위 계층에는 연결이 적고 하위 계층에는 연결이 밀집된 다층 그래프를 구축한다.\n",
    "    - 최상위 계층에는 연결이 적기 때문에 데이터 사이의 거리가 먼데, 한 번에 먼 거리를 이동할 수 있기 때문에 그래프를 빠르게 탐색할 수 있게 된다.\n",
    "    - 쿼리 시점: 최상위 계층에서 시작한 다음 검색을 구체화 하기 위해 아래 계층으로 진행\n",
    "- HNSW의 탐색 속도가 빠르면서 검색 성능이 뛰어나 가장 많이 활용되고 있다."
   ]
  },
  {
   "cell_type": "markdown",
   "id": "b434d089-1401-4503-8070-88e175c20eeb",
   "metadata": {},
   "source": [
    "## 12.2.3 탐색 가능한 작은 세계(NSW)\n",
    "- 간선을 통해 서로 연결된 노드끼리만 탐색이 가능하기 때문에 노드와 노드 사이에 얼마나 많은 간선을 연결할지가 검색 성능과 검색 속도에 영향을 미친다.\n",
    "- "
   ]
  },
  {
   "cell_type": "markdown",
   "id": "130212a2-a99c-4c21-90c5-ea7ad9a9993d",
   "metadata": {},
   "source": [
    "## 12.2.4 계층 구조\n"
   ]
  },
  {
   "cell_type": "markdown",
   "id": "202d3741-84f8-4e51-a7fe-ab9be97902c0",
   "metadata": {},
   "source": []
  }
 ],
 "metadata": {
  "kernelspec": {
   "display_name": "Python 3 (ipykernel)",
   "language": "python",
   "name": "python3"
  },
  "language_info": {
   "codemirror_mode": {
    "name": "ipython",
    "version": 3
   },
   "file_extension": ".py",
   "mimetype": "text/x-python",
   "name": "python",
   "nbconvert_exporter": "python",
   "pygments_lexer": "ipython3",
   "version": "3.13.0"
  }
 },
 "nbformat": 4,
 "nbformat_minor": 5
}
