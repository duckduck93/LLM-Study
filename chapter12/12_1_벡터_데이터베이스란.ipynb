{
 "cells": [
  {
   "metadata": {},
   "cell_type": "markdown",
   "source": [
    "# 12.1 벡터 데이터베이스란\n",
    "- 벡터 데이터베이스란, 벡터 임베딩을 키로 사용하는 데이터베이스\n",
    "    - 비정형 데이터: 텍스트, 이미지, 음성\n",
    "    - 정형 데이터: 상품, 고객 등"
   ],
   "id": "7dec9ca8804f8283"
  },
  {
   "metadata": {},
   "cell_type": "markdown",
   "source": [
    "## 12.1.1 딥러닝과 벡터 데이터 베이스\n",
    "- 딥러닝과 머신러닝의 차이\n",
    "    ![image.png](resources/12_2.png)\n",
    "- 머신러닝\n",
    "    - 특징을 정의해서 모델에 입력\n",
    "    - 특징을 정의하기 때문에 목표하는 작업이 달라지면 새롭게 특징을 정의하는 단계가 필요\n",
    "- 딥러닝\n",
    "    - `표현 학습`: 데이터만 충분하다면 모델이 알아서 특징을 뽑는 과정을 학습\n",
    "    - 딥러닝 모델로 데이터의 특징을 숫자로 표현한 임베딩을 공간상에 배치하면 아래 그림처럼 구분이 가능\n",
    "        ![image.png](resources/12_4.png)\n",
    "- 벡터 데이터베이스\n",
    "    - 임베딩 벡터 사이의 거리를 계산해서 서로 비슷한 데이터를 조회 가능\n",
    "    - 임베딩 벡터의 특징을 이용하기 위한 목적으로 개발\n",
    "        ![image.png](resources/12_5.png)\n",
    "    - 유클리드 거리, 코사인 유사도, 점곱을 가장 많이 활용\n",
    "    - LLM의 환각 현상을 줄이고 학습 없이도 최신 정보를 추가하는 핵심 기법을 RAG에서 활용"
   ],
   "id": "9c0acea1582f565e"
  },
  {
   "metadata": {},
   "cell_type": "markdown",
   "source": [
    "## 12.1.2 벡터 데이터베이스 지형 파악하기\n",
    "\n",
    "### 벡터 라이브러리\n",
    "- 벡터의 저장과 검색 같은 핵심 기능 제공\n",
    "- Faiss(Meta), Annoy(Spotify), ScaNN(Google), NMSLIB(Google)\n",
    "\n",
    "### 벡터 전용 데이터베이스\n",
    "- 벡터 라이브러리의 기능 외 다양한 기능 제공\n",
    "    - 메타 데이터의 저장 및 필터링 기능\n",
    "    - 데이터의 백업 및 관리\n",
    "    - 모니터링, 관련 AI 도구 등 에코시스템과의 통합\n",
    "    - 데이터 보안과 엑세스 관리\n",
    "- Pinecone, Weaviate, Milvus, Chroma\n",
    "\n",
    "### 기존 데이터베이스\n",
    "- 기존 데이터 베이스에 벡터 저장과 검색 기능을 추가\n",
    "- Elasticsearch, PostgreSQL, MongoDB, Neo4j\n",
    "\n",
    "![image.png](resources/12_7.jpg)"
   ],
   "id": "31b6b23ed21b52b4"
  },
  {
   "metadata": {},
   "cell_type": "code",
   "source": "",
   "id": "480122557cae1b24",
   "outputs": [],
   "execution_count": null
  }
 ],
 "metadata": {
  "kernelspec": {
   "display_name": "Python 3",
   "language": "python",
   "name": "python3"
  },
  "language_info": {
   "codemirror_mode": {
    "name": "ipython",
    "version": 2
   },
   "file_extension": ".py",
   "mimetype": "text/x-python",
   "name": "python",
   "nbconvert_exporter": "python",
   "pygments_lexer": "ipython2",
   "version": "2.7.6"
  }
 },
 "nbformat": 4,
 "nbformat_minor": 5
}
