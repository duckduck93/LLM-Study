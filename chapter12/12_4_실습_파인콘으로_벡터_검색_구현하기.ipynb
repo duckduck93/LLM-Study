{
 "cells": [
  {
   "cell_type": "markdown",
   "id": "862007a2-04b8-4946-bea3-5174fe8a8d95",
   "metadata": {
    "collapsed": true,
    "jupyter": {
     "outputs_hidden": true
    }
   },
   "source": [
    "# 12.4 실습: 파인콘으로 벡터 검색 구현하기"
   ]
  },
  {
   "cell_type": "markdown",
   "id": "7dc563ef-6082-4e97-bc61-b8f1228ba116",
   "metadata": {},
   "source": [
    "## 12.4.1 파인콘 클라이언트 사용법\n",
    "\n",
    "- https://www.pinecone.io/\n",
    "- 인덱스 생성\n",
    "    1. Create index  \n",
    "        ![image.png](resources/pinecone-1.png)\n",
    "    2. Configuration  \n",
    "        - Vector type: Dense(대부분의 원소가 0이 아닌 값), Sparse(대부분의 원소가 0인 값)  \n",
    "            효율적인 저장/연산 방식을 적용하기 위해 구분 값을 받음  \n",
    "        ![image.png](resources/pinecone-2.png)"
   ]
  },
  {
   "cell_type": "markdown",
   "id": "bcdef952-3f30-4f29-a6c0-27d3434900cd",
   "metadata": {},
   "source": [
    "```python\n",
    "# 예제 12.7\n",
    "\n",
    "from pinecone import Pinecone, ServerlessSpec\n",
    "\n",
    "pinecone_api_key = \"\"\n",
    "pc = Pinecone(api_key=pinecone_api_key)\n",
    "\n",
    "pc.create_index(\"llm-book\", spec=ServerlessSpec(\"aws\", \"us-east-1\"), dimension=768)\n",
    "index = pc.Index('llm-book')\n",
    "```"
   ]
  },
  {
   "cell_type": "code",
   "id": "f2fe43b7-2708-4c4e-a83d-b71d54a56b68",
   "metadata": {},
   "source": [
    "# 예제 12.8\n",
    "\n",
    "from datasets import load_dataset\n",
    "from sentence_transformers import SentenceTransformer\n",
    "# 임베딩 모델 불러오기\n",
    "sentence_model = SentenceTransformer('snunlp/KR-SBERT-V40K-klueNLI-augSTS')\n",
    "# 데이터셋 불러오기\n",
    "klue_dp_train = load_dataset('klue', 'dp', split='train[:100]')\n",
    "\n",
    "embeddings = sentence_model.encode(klue_dp_train['sentence'])"
   ],
   "outputs": [],
   "execution_count": null
  },
  {
   "cell_type": "code",
   "id": "e8f80642-34a2-4706-ac16-dfc34a13bc5a",
   "metadata": {},
   "source": [
    "# 예제 12.9\n",
    "\n",
    "# 파이썬 기본 데이터 타입으로 변경\n",
    "embeddings = embeddings.tolist()\n",
    "# {\"id\": 문서 ID(str), \"values\": 벡터 임베딩(List[float]), \"metadata\": 메타 데이터(dict) ) 형태로 데이터 준비\n",
    "insert_data = []\n",
    "for idx, (embedding, text) in enumerate(zip(embeddings, klue_dp_train['sentence'])):\n",
    "  insert_data.append({\"id\": str(idx), \"values\": embedding, \"metadata\": {'text': text}})"
   ],
   "outputs": [],
   "execution_count": null
  },
  {
   "cell_type": "code",
   "id": "748068a0-8eee-40ea-ac76-af8ba39bc271",
   "metadata": {},
   "source": [
    "# 예제 12.10\n",
    "\n",
    "upsert_response = index.upsert(vectors = insert_data, namespace='llm-book-sub')"
   ],
   "outputs": [],
   "execution_count": null
  },
  {
   "cell_type": "code",
   "id": "d55cfb96-beaa-4e34-bbd0-d5ead6118c87",
   "metadata": {},
   "source": [
    "# 예제 12.11\n",
    "\n",
    "query_response = index.query(\n",
    "    namespace='llm-book-sub', # 검색할 네임스페이스\n",
    "    top_k=10, # 몇 개의 결과를 반환할지\n",
    "    include_values=True, # 벡터 임베딩 반환 여부\n",
    "    include_metadata=True, # 메타 데이터 반환 여부\n",
    "    vector=embeddings[0] # 검색할 벡터 임베딩\n",
    ")\n",
    "query_response"
   ],
   "outputs": [],
   "execution_count": null
  },
  {
   "cell_type": "code",
   "id": "3bbf4715-af82-403e-a54a-bff8305f2466",
   "metadata": {},
   "source": [
    "# 예제 12.12\n",
    "\n",
    "new_text = '변경할 새로운 텍스트'\n",
    "new_embedding = sentence_model.encode(new_text).tolist()\n",
    "# 업데이트\n",
    "update_response = index.update(\n",
    "    id= '기존_문서_id',\n",
    "    values=new_embedding,\n",
    "    set_metadata={'text': new_text},\n",
    "    namespace='llm-book-sub'\n",
    ")\n",
    "\n",
    "# 삭제\n",
    "delete_response = index.delete(ids=['기존_문서_id'], namespace='llm-book-sub')"
   ],
   "outputs": [],
   "execution_count": null
  },
  {
   "cell_type": "markdown",
   "id": "1f9ae486-de84-4c58-8a96-12b81c30610a",
   "metadata": {},
   "source": [
    "## 12.4.2 라마인덱스에서 벡터 데이터베이스 변경하기\n",
    "- 라마인덱스는 기본 벡터 데이터베이스 외 Pinecoen, Chroma 같은 데이터베이스 사용 가능"
   ]
  },
  {
   "cell_type": "code",
   "id": "cda8fdf4-c659-41d4-b026-a46d1f4c4727",
   "metadata": {},
   "source": [
    "# 예제 12.13\n",
    "\n",
    "# 파인콘 기본 설정\n",
    "from pinecone import Pinecone, ServerlessSpec\n",
    "\n",
    "pc = Pinecone(api_key=pinecone_api_key)\n",
    "pc.create_index(\n",
    "    \"quickstart\", dimension=1536, metric=\"euclidean\", spec=ServerlessSpec(\"aws\", \"us-east-1\")\n",
    ")\n",
    "pinecone_index = pc.Index(\"quickstart\")\n",
    "\n",
    "# 라마인덱스에 파인콘 인덱스 연결\n",
    "from llama_index.core import VectorStoreIndex\n",
    "from llama_index.vector_stores.pinecone import PineconeVectorStore\n",
    "from llama_index.core import StorageContext\n",
    "\n",
    "vector_store = PineconeVectorStore(pinecone_index=pinecone_index)\n",
    "storage_context = StorageContext.from_defaults(vector_store=vector_store)\n",
    "index = VectorStoreIndex.from_documents(\n",
    "    documents, storage_context=storage_context\n",
    ")"
   ],
   "outputs": [],
   "execution_count": null
  }
 ],
 "metadata": {
  "kernelspec": {
   "display_name": "Python 3 (ipykernel)",
   "language": "python",
   "name": "python3"
  },
  "language_info": {
   "codemirror_mode": {
    "name": "ipython",
    "version": 3
   },
   "file_extension": ".py",
   "mimetype": "text/x-python",
   "name": "python",
   "nbconvert_exporter": "python",
   "pygments_lexer": "ipython3",
   "version": "3.13.0"
  }
 },
 "nbformat": 4,
 "nbformat_minor": 5
}
