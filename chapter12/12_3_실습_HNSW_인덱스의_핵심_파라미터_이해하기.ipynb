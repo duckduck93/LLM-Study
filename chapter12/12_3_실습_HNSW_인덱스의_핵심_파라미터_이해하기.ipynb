{
 "cells": [
  {
   "cell_type": "markdown",
   "id": "f8c9e5c4-6539-4a8b-b90d-68acf91974fa",
   "metadata": {
    "collapsed": true,
    "jupyter": {
     "outputs_hidden": true
    }
   },
   "source": [
    "# 12.3 실습: HNSW 인덱스의 핵심 파라미터 이해하기\n",
    "\n",
    "- HNSW의 성능 지표를 제어하는 파라미터\n",
    "    - 최소 연결 수 (m)\n",
    "    - 색인 과정에서 가장 가까운 M개를 선택하기 위해 저장하는 후보의 수 (ef_construction)\n",
    "    - 검색 과정에서 가장 가까운 K개를 선택할 때 저장하는 후보의 수 (ef_search)"
   ]
  },
  {
   "cell_type": "markdown",
   "id": "a43d7966-b228-42cc-847f-6ad8fceaf1fe",
   "metadata": {},
   "source": [
    "## 12.3.1 파라미터 m 이해하기\n",
    "\n",
    "- 최소 연결 수 (m)\n",
    "    - 간선이 많을 수록 그래프가 더 촘촘하게 연결\n",
    "    - 재현율 ↑ / 메모리 효율, 색인 속도, 검색 속도 ↓"
   ]
  },
  {
   "cell_type": "code",
   "id": "892eccab-cabb-4573-be4c-06d97b5da578",
   "metadata": {},
   "source": [
    "# 예제 12.2\n",
    "\n",
    "import psutil\n",
    "\n",
    "def get_memory_usage_mb():\n",
    "    process = psutil.Process()\n",
    "    memory_info = process.memory_info()\n",
    "    return memory_info.rss / (1024 * 1024)"
   ],
   "outputs": [],
   "execution_count": null
  },
  {
   "cell_type": "code",
   "id": "07247204-aa39-42fc-a26f-52284ebbf30b",
   "metadata": {},
   "source": [
    "# 예제 12.2\n",
    "\n",
    "import time\n",
    "import faiss\n",
    "from faiss.contrib.datasets import DatasetSIFT1M\n",
    "\n",
    "ds = DatasetSIFT1M()\n",
    "\n",
    "xq = ds.get_queries()\n",
    "xb = ds.get_database()\n",
    "gt = ds.get_groundtruth()"
   ],
   "outputs": [],
   "execution_count": null
  },
  {
   "cell_type": "code",
   "id": "e061ecd0-789b-451a-9703-54694c40f187",
   "metadata": {},
   "source": [
    "# 예제 12.3\n",
    "\n",
    "k=1\n",
    "d = xq.shape[1]\n",
    "nq = 1000\n",
    "xq = xq[:nq]\n",
    "\n",
    "for i in range(1, 10, 2):\n",
    "    start_memory = get_memory_usage_mb()\n",
    "    start_indexing = time.time()\n",
    "    index = faiss.IndexFlatL2(d)\n",
    "    index.add(xb[:(i+1)*100000])\n",
    "    end_indexing = time.time()\n",
    "    end_memory = get_memory_usage_mb()\n",
    "\n",
    "    t0 = time.time()\n",
    "    D, I = index.search(xq, k)\n",
    "    t1 = time.time()\n",
    "    print(f\"데이터 {(i+1)*100000}개:\")\n",
    "    print(f\"색인: {(end_indexing - start_indexing) * 1000 :.3f} ms ({end_memory - start_memory:.3f} MB) 검색: {(t1 - t0) * 1000 / nq :.3f} ms\")"
   ],
   "outputs": [],
   "execution_count": null
  },
  {
   "cell_type": "code",
   "id": "6f894469-2360-4fd0-b5fb-04f3f795139d",
   "metadata": {},
   "source": [
    "from IPython.display import display, clear_output, Markdown\n",
    "\n",
    "def printMD(x):\n",
    "    clear_output()\n",
    "    display(Markdown(x))"
   ],
   "outputs": [],
   "execution_count": null
  },
  {
   "cell_type": "code",
   "id": "40fdd073-b59d-4206-b745-645e9d8bb9cd",
   "metadata": {
    "scrolled": true
   },
   "source": [
    "# 예제 12.4\n",
    "\n",
    "import numpy as np\n",
    "\n",
    "k=1\n",
    "d = xq.shape[1]\n",
    "nq = 1000\n",
    "xq = xq[:nq]\n",
    "\n",
    "table = \"\"\"\n",
    "| M | 메모리 사용량(MB) | 색인 시간(s) | 검색 시간(ms) | 재현율 |\n",
    "| --- | --- | --- | --- | --- |\n",
    "\"\"\"\n",
    "printMD(table)\n",
    "\n",
    "for m in [8, 16, 32, 64]:\n",
    "    index = faiss.IndexHNSWFlat(d, m)\n",
    "    time.sleep(3)\n",
    "    start_memory = get_memory_usage_mb()\n",
    "    start_index = time.time()\n",
    "    index.add(xb)\n",
    "    end_memory = get_memory_usage_mb()\n",
    "    end_index = time.time()\n",
    "    table = table + f\"| {m} | {end_memory - start_memory:.5f} | {end_index - start_index:.5f}\"\n",
    "\n",
    "    t0 = time.time()\n",
    "    D, I = index.search(xq, k)\n",
    "    t1 = time.time()\n",
    "\n",
    "    recall_at_1 = np.equal(I, gt[:nq, :1]).sum() / float(nq)\n",
    "\n",
    "    table = table + f\"| {(t1 - t0) * 1000.0 / nq:.3f} | {recall_at_1:.3f} |\" + \"\\n\"\n",
    "    printMD(table)"
   ],
   "outputs": [],
   "execution_count": null
  },
  {
   "cell_type": "markdown",
   "id": "ad632062-f61c-4334-a5e6-09d72482ad37",
   "metadata": {},
   "source": [
    "## 12.3.2 파라미터 ef_construction 이해하기\n",
    "\n",
    "- 색인 과정에서 가장 가까운 M개를 선택하기 위해 저장하는 후보의 수 (ef_construction)\n",
    "    - ef_construction이 크면 더 많은 후보를 탐색하기 때문에 실제로 추가한 벡터와 가장 가까운 벡터를 선택할 가능성이 높아진다.\n",
    "    - 하지만 많은 후보를 탐색하기 때문에 색인 시간이 증가한다.\n",
    "    - 재현율 ↑ / 색인 속도 ↓ / 메모리 효율, 검색 속도 영향 X"
   ]
  },
  {
   "cell_type": "code",
   "id": "cb3744f0-2880-47e5-b9f0-c42c9c912b36",
   "metadata": {},
   "source": [
    "# 예제 12.5\n",
    "\n",
    "k=1\n",
    "d = xq.shape[1]\n",
    "nq = 1000\n",
    "xq = xq[:nq]\n",
    "\n",
    "table = \"\"\"\n",
    "| ef_construction | 메모리 사용량(MB) | 색인 시간(s) | 검색 시간(ms) | 재현율 |\n",
    "| --- | --- | --- | --- | --- |\n",
    "\"\"\"\n",
    "printMD(table)\n",
    "\n",
    "for ef_construction in [40, 80, 160, 320]:\n",
    "    index = faiss.IndexHNSWFlat(d, 32)\n",
    "    index.hnsw.efConstruction = ef_construction\n",
    "    time.sleep(3)\n",
    "    start_memory = get_memory_usage_mb()\n",
    "    start_index = time.time()\n",
    "    index.add(xb)\n",
    "    end_memory = get_memory_usage_mb()\n",
    "    end_index = time.time()\n",
    "    table = table + f\"| {ef_construction} | {end_memory - start_memory:.5f} | {end_index - start_index:.5f}\"\n",
    "\n",
    "    t0 = time.time()\n",
    "    D, I = index.search(xq, k)\n",
    "    t1 = time.time()\n",
    "\n",
    "    recall_at_1 = np.equal(I, gt[:nq, :1]).sum() / float(nq)\n",
    "    table = table + f\"| {(t1 - t0) * 1000.0 / nq:.3f} | {recall_at_1:.3f}\" + \"\\n\"\n",
    "    printMD(table)"
   ],
   "outputs": [],
   "execution_count": null
  },
  {
   "cell_type": "markdown",
   "id": "4df8427e-514d-4cf9-90a9-844a9cf60ce3",
   "metadata": {},
   "source": [
    "## 12.3.3 파라미터 ef_search 이해하기\n",
    "\n",
    "- 검색 과정에서 가장 가까운 K개를 선택할 때 저장하는 후보의 수 (ef_search)\n",
    "    - 재현율 ↑ / 검색 속도 ↓ / 메모리 효율, 색인 속도 영향 X"
   ]
  },
  {
   "cell_type": "code",
   "id": "e5e36210-13e8-4cda-805a-163af67ee068",
   "metadata": {},
   "source": [
    "# 예제 12.6\n",
    "\n",
    "table = \"\"\"\n",
    "| ef_search | 검색 시간(ms) | 재현율 |\n",
    "| --- | --- | --- |\n",
    "\"\"\"\n",
    "printMD(table)\n",
    "\n",
    "for ef_search in [16, 32, 64, 128]:\n",
    "    index.hnsw.efSearch = ef_search\n",
    "    t0 = time.time()\n",
    "    D, I = index.search(xq, k)\n",
    "    t1 = time.time()\n",
    "\n",
    "    recall_at_1 = np.equal(I, gt[:nq, :1]).sum() / float(nq)\n",
    "    table = table + f\"| {ef_search} | {(t1 - t0) * 1000.0 / nq:.3f} | {recall_at_1:.3f} |\" + \"\\n\"\n",
    "    printMD(table)"
   ],
   "outputs": [],
   "execution_count": null
  }
 ],
 "metadata": {
  "kernelspec": {
   "display_name": "Python 3 (ipykernel)",
   "language": "python",
   "name": "python3"
  },
  "language_info": {
   "codemirror_mode": {
    "name": "ipython",
    "version": 3
   },
   "file_extension": ".py",
   "mimetype": "text/x-python",
   "name": "python",
   "nbconvert_exporter": "python",
   "pygments_lexer": "ipython3",
   "version": "3.13.0"
  }
 },
 "nbformat": 4,
 "nbformat_minor": 5
}
