{
 "cells": [
  {
   "cell_type": "markdown",
   "id": "3e1ee6904c088f",
   "metadata": {},
   "source": [
    "# 10 임베딩 모델로 데이터 의미 압축하기\n",
    "\n",
    "1. 텍스트를 숫자로 표현하려던 다양한 시도를 살펴본다.\n",
    "2. 임베딩 벡터의 유사도를 기반으로 검색하는 방법(의미 검색)을 실습\n",
    "3. 의미 검색의 단점을 보완하기 위해 키워드 검색을 조합해 사용하는 하이브리드 검색을 실습"
   ]
  },
  {
   "cell_type": "code",
   "execution_count": 1,
   "id": "8842f6ac69637c02",
   "metadata": {
    "ExecuteTime": {
     "end_time": "2025-07-14T14:09:32.485856Z",
     "start_time": "2025-07-14T14:09:31.805587Z"
    }
   },
   "outputs": [],
   "source": [
    "!pip install transformers datasets sentence-transformers faiss-cpu llama-index llama-index-embeddings-huggingface -qqq\n",
    "\n",
    "# -q: quiet mode (출력 메시지를 최소화합니다.)\n",
    "# -qq : more quiet mode (경고 메시지만 출력합니다.)\n",
    "# -qqq: even more quiet mode (어떤 메시지도 출력하지 않습니다.)"
   ]
  },
  {
   "cell_type": "markdown",
   "id": "65158c1cb1fd095a",
   "metadata": {},
   "source": [
    "### Reference\n",
    "- [딥 러닝을 이용한 자연어 처리 입문](https://wikidocs.net/book/2155)"
   ]
  }
 ],
 "metadata": {
  "kernelspec": {
   "display_name": "Python 3 (ipykernel)",
   "language": "python",
   "name": "python3"
  },
  "language_info": {
   "codemirror_mode": {
    "name": "ipython",
    "version": 3
   },
   "file_extension": ".py",
   "mimetype": "text/x-python",
   "name": "python",
   "nbconvert_exporter": "python",
   "pygments_lexer": "ipython3",
   "version": "3.13.0"
  }
 },
 "nbformat": 4,
 "nbformat_minor": 5
}
