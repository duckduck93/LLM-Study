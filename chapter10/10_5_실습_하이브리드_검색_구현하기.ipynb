{
 "cells": [
  {
   "metadata": {},
   "cell_type": "markdown",
   "source": "# 10.5 실습: 하이브리드 검색 구현하기",
   "id": "95795c69c3c2a155"
  },
  {
   "metadata": {},
   "cell_type": "markdown",
   "source": "## 10.5.1 BM25 구현하기",
   "id": "acca232d4327ff19"
  },
  {
   "metadata": {
    "ExecuteTime": {
     "end_time": "2025-07-15T13:32:32.312506Z",
     "start_time": "2025-07-15T13:32:03.793483Z"
    }
   },
   "cell_type": "code",
   "source": [
    "import faiss\n",
    "from datasets import load_dataset\n",
    "from sentence_transformers import SentenceTransformer\n",
    "\n",
    "sentence_model = SentenceTransformer('snunlp/KR-SBERT-V40K-klueNLI-augSTS')\n",
    "klue_mrc_dataset = load_dataset('klue', 'mrc', split='train')\n",
    "klue_mrc_dataset = klue_mrc_dataset.train_test_split(train_size=1000, shuffle=False)['train']\n",
    "embeddings = sentence_model.encode(list(klue_mrc_dataset['context']))\n",
    "index = faiss.IndexFlatL2(embeddings.shape[1])"
   ],
   "id": "352916192c2dff1d",
   "outputs": [],
   "execution_count": 1
  },
  {
   "metadata": {
    "collapsed": true,
    "ExecuteTime": {
     "end_time": "2025-07-15T13:32:32.330408Z",
     "start_time": "2025-07-15T13:32:32.325171Z"
    }
   },
   "cell_type": "code",
   "source": [
    "# 예제 10.14 BM25 클래스 구현\n",
    "\n",
    "import math\n",
    "import numpy as np\n",
    "from typing import List\n",
    "from transformers import PreTrainedTokenizer\n",
    "\n",
    "\n",
    "class BM25:\n",
    "    def __init__(self, corpus: List[List[str]], tokenizer: PreTrainedTokenizer):\n",
    "        self.tokenizer = tokenizer\n",
    "        self.corpus = corpus\n",
    "        self.tokenized_corpus = self.tokenizer(corpus, add_special_tokens=False)['input_ids']\n",
    "        self.n_docs = len(self.tokenized_corpus)\n",
    "        self.avg_doc_lens = sum(len(lst) for lst in self.tokenized_corpus) / len(self.tokenized_corpus)\n",
    "        self.idf = self._calculate_idf()\n",
    "        self.term_freqs = self._calculate_term_freqs()\n",
    "\n",
    "    def _calculate_idf(self):\n",
    "        idf = defaultdict(float)\n",
    "        for doc in self.tokenized_corpus:\n",
    "            for token_id in set(doc):\n",
    "                idf[token_id] += 1\n",
    "        for token_id, doc_frequency in idf.items():\n",
    "            idf[token_id] = math.log(((self.n_docs - doc_frequency + 0.5) / (doc_frequency + 0.5)) + 1)\n",
    "        return idf\n",
    "\n",
    "    def _calculate_term_freqs(self):\n",
    "        term_freqs = [defaultdict(int) for _ in range(self.n_docs)]\n",
    "        for i, doc in enumerate(self.tokenized_corpus):\n",
    "            for token_id in doc:\n",
    "                term_freqs[i][token_id] += 1\n",
    "        return term_freqs\n",
    "\n",
    "    def get_scores(self, query: str, k1: float = 1.2, b: float = 0.75):\n",
    "        query = self.tokenizer([query], add_special_tokens=False)['input_ids'][0]\n",
    "        scores = np.zeros(self.n_docs)\n",
    "        for q in query:\n",
    "            idf = self.idf[q]\n",
    "            for i, term_freq in enumerate(self.term_freqs):\n",
    "                q_frequency = term_freq[q]\n",
    "                doc_len = len(self.tokenized_corpus[i])\n",
    "                score_q = idf * (q_frequency * (k1 + 1)) / ((q_frequency) + k1 * (1 - b + b * (doc_len / self.avg_doc_lens)))\n",
    "                scores[i] += score_q\n",
    "        return scores\n",
    "\n",
    "    def get_top_k(self, query: str, k: int):\n",
    "        scores = self.get_scores(query)\n",
    "        top_k_indices = np.argsort(scores)[-k:][::-1]\n",
    "        top_k_scores = scores[top_k_indices]\n",
    "        return top_k_scores, top_k_indices"
   ],
   "id": "initial_id",
   "outputs": [],
   "execution_count": 2
  },
  {
   "metadata": {
    "ExecuteTime": {
     "end_time": "2025-07-15T13:32:33.388838Z",
     "start_time": "2025-07-15T13:32:32.426176Z"
    }
   },
   "cell_type": "code",
   "source": [
    "# 예제 10.15 BM25 점수 계산 확인해 보기\n",
    "\n",
    "from transformers import AutoTokenizer\n",
    "\n",
    "tokenizer = AutoTokenizer.from_pretrained('klue/roberta-base')\n",
    "\n",
    "bm25 = BM25(['안녕하세요', '반갑습니다', '안녕 서울'], tokenizer)\n",
    "bm25.get_scores('안녕')"
   ],
   "id": "be0ed0d49ee92455",
   "outputs": [
    {
     "ename": "NameError",
     "evalue": "name 'defaultdict' is not defined",
     "output_type": "error",
     "traceback": [
      "\u001B[31m---------------------------------------------------------------------------\u001B[39m",
      "\u001B[31mNameError\u001B[39m                                 Traceback (most recent call last)",
      "\u001B[36mCell\u001B[39m\u001B[36m \u001B[39m\u001B[32mIn[3]\u001B[39m\u001B[32m, line 7\u001B[39m\n\u001B[32m      3\u001B[39m \u001B[38;5;28;01mfrom\u001B[39;00m\u001B[38;5;250m \u001B[39m\u001B[34;01mtransformers\u001B[39;00m\u001B[38;5;250m \u001B[39m\u001B[38;5;28;01mimport\u001B[39;00m AutoTokenizer\n\u001B[32m      5\u001B[39m tokenizer = AutoTokenizer.from_pretrained(\u001B[33m'\u001B[39m\u001B[33mklue/roberta-base\u001B[39m\u001B[33m'\u001B[39m)\n\u001B[32m----> \u001B[39m\u001B[32m7\u001B[39m bm25 = \u001B[43mBM25\u001B[49m\u001B[43m(\u001B[49m\u001B[43m[\u001B[49m\u001B[33;43m'\u001B[39;49m\u001B[33;43m안녕하세요\u001B[39;49m\u001B[33;43m'\u001B[39;49m\u001B[43m,\u001B[49m\u001B[43m \u001B[49m\u001B[33;43m'\u001B[39;49m\u001B[33;43m반갑습니다\u001B[39;49m\u001B[33;43m'\u001B[39;49m\u001B[43m,\u001B[49m\u001B[43m \u001B[49m\u001B[33;43m'\u001B[39;49m\u001B[33;43m안녕 서울\u001B[39;49m\u001B[33;43m'\u001B[39;49m\u001B[43m]\u001B[49m\u001B[43m,\u001B[49m\u001B[43m \u001B[49m\u001B[43mtokenizer\u001B[49m\u001B[43m)\u001B[49m\n\u001B[32m      8\u001B[39m bm25.get_scores(\u001B[33m'\u001B[39m\u001B[33m안녕\u001B[39m\u001B[33m'\u001B[39m)\n",
      "\u001B[36mCell\u001B[39m\u001B[36m \u001B[39m\u001B[32mIn[2]\u001B[39m\u001B[32m, line 16\u001B[39m, in \u001B[36mBM25.__init__\u001B[39m\u001B[34m(self, corpus, tokenizer)\u001B[39m\n\u001B[32m     14\u001B[39m \u001B[38;5;28mself\u001B[39m.n_docs = \u001B[38;5;28mlen\u001B[39m(\u001B[38;5;28mself\u001B[39m.tokenized_corpus)\n\u001B[32m     15\u001B[39m \u001B[38;5;28mself\u001B[39m.avg_doc_lens = \u001B[38;5;28msum\u001B[39m(\u001B[38;5;28mlen\u001B[39m(lst) \u001B[38;5;28;01mfor\u001B[39;00m lst \u001B[38;5;129;01min\u001B[39;00m \u001B[38;5;28mself\u001B[39m.tokenized_corpus) / \u001B[38;5;28mlen\u001B[39m(\u001B[38;5;28mself\u001B[39m.tokenized_corpus)\n\u001B[32m---> \u001B[39m\u001B[32m16\u001B[39m \u001B[38;5;28mself\u001B[39m.idf = \u001B[38;5;28;43mself\u001B[39;49m\u001B[43m.\u001B[49m\u001B[43m_calculate_idf\u001B[49m\u001B[43m(\u001B[49m\u001B[43m)\u001B[49m\n\u001B[32m     17\u001B[39m \u001B[38;5;28mself\u001B[39m.term_freqs = \u001B[38;5;28mself\u001B[39m._calculate_term_freqs()\n",
      "\u001B[36mCell\u001B[39m\u001B[36m \u001B[39m\u001B[32mIn[2]\u001B[39m\u001B[32m, line 20\u001B[39m, in \u001B[36mBM25._calculate_idf\u001B[39m\u001B[34m(self)\u001B[39m\n\u001B[32m     19\u001B[39m \u001B[38;5;28;01mdef\u001B[39;00m\u001B[38;5;250m \u001B[39m\u001B[34m_calculate_idf\u001B[39m(\u001B[38;5;28mself\u001B[39m):\n\u001B[32m---> \u001B[39m\u001B[32m20\u001B[39m     idf = \u001B[43mdefaultdict\u001B[49m(\u001B[38;5;28mfloat\u001B[39m)\n\u001B[32m     21\u001B[39m     \u001B[38;5;28;01mfor\u001B[39;00m doc \u001B[38;5;129;01min\u001B[39;00m \u001B[38;5;28mself\u001B[39m.tokenized_corpus:\n\u001B[32m     22\u001B[39m         \u001B[38;5;28;01mfor\u001B[39;00m token_id \u001B[38;5;129;01min\u001B[39;00m \u001B[38;5;28mset\u001B[39m(doc):\n",
      "\u001B[31mNameError\u001B[39m: name 'defaultdict' is not defined"
     ]
    }
   ],
   "execution_count": 3
  },
  {
   "metadata": {
    "ExecuteTime": {
     "end_time": "2025-07-15T13:32:33.404Z",
     "start_time": "2025-07-14T13:57:08.842859Z"
    }
   },
   "cell_type": "code",
   "source": [
    "# 예제 10.16 BM25 검색 결과의 한계\n",
    "\n",
    "\n",
    "# BM25 검색 준비\n",
    "bm25 = BM25(list(klue_mrc_dataset['context']), tokenizer)\n",
    "\n",
    "query = \"이번 연도에는 언제 비가 많이 올까?\"\n",
    "_, bm25_search_ranking = bm25.get_top_k(query, 100)\n",
    "\n",
    "for idx in bm25_search_ranking[:3]:\n",
    "    print(klue_mrc_dataset['context'][int(idx)][:50])\n"
   ],
   "id": "5f03510de6e109b0",
   "outputs": [
    {
     "name": "stderr",
     "output_type": "stream",
     "text": [
      "Token indices sequence length is longer than the specified maximum sequence length for this model (965 > 512). Running this sequence through the model will result in indexing errors\n"
     ]
    },
    {
     "name": "stdout",
     "output_type": "stream",
     "text": [
      "갤럭시S5 언제 발매한다는 건지언제는 “27일 판매한다”고 했다가 “이르면 26일 판매한다\n",
      "인구 비율당 노벨상을 세계에서 가장 많이 받은 나라, 과학 논문을 가장 많이 쓰고 의료 특\n",
      "올여름 장마가 17일 제주도에서 시작됐다. 서울 등 중부지방은 예년보다 사나흘 정도 늦은 \n"
     ]
    }
   ],
   "execution_count": 30
  },
  {
   "metadata": {
    "ExecuteTime": {
     "end_time": "2025-07-15T13:32:33.405243Z",
     "start_time": "2025-07-14T13:57:09.052314Z"
    }
   },
   "cell_type": "code",
   "source": [
    "# 예제 10.17 BM25 검색 결과의 장점\n",
    "\n",
    "query = klue_mrc_dataset[3]['question']  # 로버트 헨리 딕이 1946년에 매사추세츠 연구소에서 개발한 것은 무엇인가?\n",
    "_, bm25_search_ranking = bm25.get_top_k(query, 100)\n",
    "\n",
    "for idx in bm25_search_ranking[:3]:\n",
    "    print(klue_mrc_dataset['context'][int(idx)][:50])"
   ],
   "id": "6e6c5a0a792037b2",
   "outputs": [
    {
     "name": "stdout",
     "output_type": "stream",
     "text": [
      "미국 세인트루이스에서 태어났고, 프린스턴 대학교에서 학사 학위를 마치고 1939년에 로체스\n",
      ";메카동(メカドン)\n",
      ":성우 : 나라하시 미키(ならはしみき)\n",
      "길가에 버려져 있던 낡은 느티나\n",
      ";메카동(メカドン)\n",
      ":성우 : 나라하시 미키(ならはしみき)\n",
      "길가에 버려져 있던 낡은 느티나\n"
     ]
    }
   ],
   "execution_count": 31
  },
  {
   "metadata": {},
   "cell_type": "markdown",
   "source": "## 10.5.2 상호 순위 조합 구현하기",
   "id": "a31e6590f689a8cd"
  },
  {
   "metadata": {
    "ExecuteTime": {
     "end_time": "2025-07-15T13:32:33.405735Z",
     "start_time": "2025-07-14T13:57:09.078317Z"
    }
   },
   "cell_type": "code",
   "source": [
    "# 예제 10.18 상호 순위 조합 함수 구현\n",
    "\n",
    "from collections import defaultdict\n",
    "\n",
    "\n",
    "def reciprocal_rank_fusion(rankings: List[List[int]], k=5):\n",
    "    rrf = defaultdict(float)\n",
    "    for ranking in rankings:\n",
    "        for i, doc_id in enumerate(ranking, 1):\n",
    "            rrf[doc_id] += 1.0 / (k + i)\n",
    "    return sorted(rrf.items(), key=lambda x: x[1], reverse=True)"
   ],
   "id": "6dc213cb43b29bf5",
   "outputs": [],
   "execution_count": 32
  },
  {
   "metadata": {
    "ExecuteTime": {
     "end_time": "2025-07-15T13:32:33.406126Z",
     "start_time": "2025-07-14T13:57:09.091270Z"
    }
   },
   "cell_type": "code",
   "source": [
    "# 예제 10.19 예시 데이터에 대한 상호 순위 조합 결과 확인하기\n",
    "\n",
    "\n",
    "def dense_vector_search(query: str, k: int):\n",
    "    query_embedding = sentence_model.encode([query])\n",
    "    distances, indices = index.search(query_embedding, k)\n",
    "    return distances[0], indices[0]\n",
    "\n",
    "\n",
    "def hybrid_search(query, k=20):\n",
    "    _, dense_search_ranking = dense_vector_search(query, 100)\n",
    "    _, bm25_search_ranking = bm25.get_top_k(query, 100)\n",
    "\n",
    "    results = reciprocal_rank_fusion([dense_search_ranking, bm25_search_ranking], k=k)\n",
    "    return results"
   ],
   "id": "de582918c2d6a5db",
   "outputs": [],
   "execution_count": 33
  },
  {
   "metadata": {
    "ExecuteTime": {
     "end_time": "2025-07-15T13:32:33.406403Z",
     "start_time": "2025-07-14T13:57:09.104965Z"
    }
   },
   "cell_type": "code",
   "source": [
    "# 예제 10.21 예시 데이터에 대한 하이브리드 검색 결과 확인\n",
    "\n",
    "query = \"이번 연도에는 언제 비가 많이 올까?\"\n",
    "print(\"검색 쿼리 문장: \", query)\n",
    "results = hybrid_search(query)\n",
    "for idx, score in results[:3]:\n",
    "    print(klue_mrc_dataset['context'][int(idx)][:50])\n",
    "\n",
    "print(\"=\" * 80)\n",
    "query = klue_mrc_dataset[3]['question']  # 로버트 헨리 딕이 1946년에 매사추세츠 연구소에서 개발한 것은 무엇인가?\n",
    "print(\"검색 쿼리 문장: \", query)\n",
    "\n",
    "results = hybrid_search(query)\n",
    "for idx, score in results[:3]:\n",
    "    print(klue_mrc_dataset['context'][int(idx)][:50])"
   ],
   "id": "d1ff8f61544cfd16",
   "outputs": [
    {
     "name": "stdout",
     "output_type": "stream",
     "text": [
      "검색 쿼리 문장:  이번 연도에는 언제 비가 많이 올까?\n",
      "베토벤의 음악계에 대한 기여는 매우 컸고, 그 이후의 음악가는 크든 작든 그의 영향을 받았\n",
      "갤럭시S5 언제 발매한다는 건지언제는 “27일 판매한다”고 했다가 “이르면 26일 판매한다\n",
      "인구 비율당 노벨상을 세계에서 가장 많이 받은 나라, 과학 논문을 가장 많이 쓰고 의료 특\n",
      "================================================================================\n",
      "검색 쿼리 문장:  로버트 헨리 딕이 1946년에 매사추세츠 연구소에서 개발한 것은 무엇인가?\n",
      "베토벤의 음악계에 대한 기여는 매우 컸고, 그 이후의 음악가는 크든 작든 그의 영향을 받았\n",
      "미국 세인트루이스에서 태어났고, 프린스턴 대학교에서 학사 학위를 마치고 1939년에 로체스\n",
      ";메카동(メカドン)\n",
      ":성우 : 나라하시 미키(ならはしみき)\n",
      "길가에 버려져 있던 낡은 느티나\n"
     ]
    }
   ],
   "execution_count": 34
  }
 ],
 "metadata": {
  "kernelspec": {
   "display_name": "Python 3",
   "language": "python",
   "name": "python3"
  },
  "language_info": {
   "codemirror_mode": {
    "name": "ipython",
    "version": 2
   },
   "file_extension": ".py",
   "mimetype": "text/x-python",
   "name": "python",
   "nbconvert_exporter": "python",
   "pygments_lexer": "ipython2",
   "version": "2.7.6"
  }
 },
 "nbformat": 4,
 "nbformat_minor": 5
}
