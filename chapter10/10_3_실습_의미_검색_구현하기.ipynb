{
 "cells": [
  {
   "cell_type": "markdown",
   "id": "ac00c82f65450a43",
   "metadata": {},
   "source": [
    "# 10.3 실습: 의미 검색 구현하기\n",
    "- Semantic Search\n",
    "- 단순히 키워드 매칭을 통한 검색이 아니라, 밀집 임베딩을 이용해 문장이나 문서의 의미를 고려한 검색을 수행하는 것"
   ]
  },
  {
   "cell_type": "markdown",
   "id": "5ec128b5b3fe0a80",
   "metadata": {},
   "source": [
    "## 10.3.1 의미검색 구현하기"
   ]
  },
  {
   "cell_type": "code",
   "execution_count": 1,
   "id": "cb91d1f615b620c1",
   "metadata": {
    "ExecuteTime": {
     "end_time": "2025-07-14T13:23:59.579049Z",
     "start_time": "2025-07-14T13:23:51.883524Z"
    }
   },
   "outputs": [
    {
     "data": {
      "text/plain": [
       "Dataset({\n",
       "    features: ['title', 'context', 'news_category', 'source', 'guid', 'is_impossible', 'question_type', 'question', 'answers'],\n",
       "    num_rows: 17554\n",
       "})"
      ]
     },
     "execution_count": 1,
     "metadata": {},
     "output_type": "execute_result"
    }
   ],
   "source": [
    "# 예제 10.8 실습에 사용할 모델과 데이터셋 불러오기\n",
    "\n",
    "from datasets import load_dataset\n",
    "from sentence_transformers import SentenceTransformer\n",
    "\n",
    "klue_mrc_dataset = load_dataset('klue', 'mrc', split='train')\n",
    "klue_mrc_dataset"
   ]
  },
  {
   "cell_type": "code",
   "execution_count": 2,
   "id": "548bd6606848dee9",
   "metadata": {
    "ExecuteTime": {
     "end_time": "2025-07-14T13:24:04.416446Z",
     "start_time": "2025-07-14T13:23:59.612871Z"
    }
   },
   "outputs": [
    {
     "data": {
      "text/plain": [
       "SentenceTransformer(\n",
       "  (0): Transformer({'max_seq_length': 128, 'do_lower_case': False, 'architecture': 'BertModel'})\n",
       "  (1): Pooling({'word_embedding_dimension': 768, 'pooling_mode_cls_token': False, 'pooling_mode_mean_tokens': True, 'pooling_mode_max_tokens': False, 'pooling_mode_mean_sqrt_len_tokens': False, 'pooling_mode_weightedmean_tokens': False, 'pooling_mode_lasttoken': False, 'include_prompt': True})\n",
       ")"
      ]
     },
     "execution_count": 2,
     "metadata": {},
     "output_type": "execute_result"
    }
   ],
   "source": [
    "sentence_model = SentenceTransformer('snunlp/KR-SBERT-V40K-klueNLI-augSTS')\n",
    "sentence_model"
   ]
  },
  {
   "cell_type": "code",
   "execution_count": 3,
   "id": "a383c0860d9b85f9",
   "metadata": {
    "ExecuteTime": {
     "end_time": "2025-07-14T13:24:04.552817Z",
     "start_time": "2025-07-14T13:24:04.544638Z"
    }
   },
   "outputs": [
    {
     "data": {
      "text/plain": [
       "Dataset({\n",
       "    features: ['title', 'context', 'news_category', 'source', 'guid', 'is_impossible', 'question_type', 'question', 'answers'],\n",
       "    num_rows: 1000\n",
       "})"
      ]
     },
     "execution_count": 3,
     "metadata": {},
     "output_type": "execute_result"
    }
   ],
   "source": [
    "# 예제 10.9 실습 데이터에서 1,000개만 선택하고 문장 임베딩으로 변환\n",
    "\n",
    "train_data_set = klue_mrc_dataset.train_test_split(train_size=1000, shuffle=False)['train']\n",
    "train_data_set"
   ]
  },
  {
   "cell_type": "code",
   "execution_count": 4,
   "id": "c0bc1cf59784e1b6",
   "metadata": {
    "ExecuteTime": {
     "end_time": "2025-07-14T13:24:11.514807Z",
     "start_time": "2025-07-14T13:24:04.650678Z"
    }
   },
   "outputs": [
    {
     "data": {
      "text/plain": [
       "(1000, 768)"
      ]
     },
     "execution_count": 4,
     "metadata": {},
     "output_type": "execute_result"
    }
   ],
   "source": [
    "embeddings = sentence_model.encode(list(train_data_set['context']))\n",
    "embeddings.shape"
   ]
  },
  {
   "cell_type": "code",
   "execution_count": 5,
   "id": "83c695b08a521ff4",
   "metadata": {
    "ExecuteTime": {
     "end_time": "2025-07-14T13:24:11.552994Z",
     "start_time": "2025-07-14T13:24:11.548687Z"
    }
   },
   "outputs": [
    {
     "data": {
      "text/plain": [
       "<faiss.swigfaiss.IndexFlatL2; proxy of <Swig Object of type 'faiss::IndexFlatL2 *' at 0x12fc1d050> >"
      ]
     },
     "execution_count": 5,
     "metadata": {},
     "output_type": "execute_result"
    }
   ],
   "source": [
    "# 예제 10.10 KNN 검색 인덱스를 생성하고 문장 임베딩 저장\n",
    "\n",
    "import faiss\n",
    "\n",
    "# 인덱스 만들기\n",
    "index = faiss.IndexFlatL2(embeddings.shape[1])\n",
    "\n",
    "# 인덱스에 임베딩 저장하기\n",
    "index.add(embeddings)\n",
    "index"
   ]
  },
  {
   "cell_type": "code",
   "execution_count": 6,
   "id": "28f2483cc65ec52c",
   "metadata": {
    "ExecuteTime": {
     "end_time": "2025-07-14T13:24:11.605027Z",
     "start_time": "2025-07-14T13:24:11.575842Z"
    }
   },
   "outputs": [
    {
     "data": {
      "text/plain": [
       "array([[  0, 920, 921]])"
      ]
     },
     "execution_count": 6,
     "metadata": {},
     "output_type": "execute_result"
    }
   ],
   "source": [
    "# 예제 10.11 의미 검색의 장점\n",
    "\n",
    "query = '이번 연도에는 언제 비가 많이 올까?'\n",
    "query_embeddings = sentence_model.encode([query])\n",
    "distances, indices = index.search(query_embeddings, 3)  # query_embeddings와 가장 가까운 3개의 문장 검색\n",
    "\n",
    "indices"
   ]
  },
  {
   "cell_type": "code",
   "execution_count": 7,
   "id": "fa71221c4def85e9",
   "metadata": {
    "ExecuteTime": {
     "end_time": "2025-07-14T13:24:11.664893Z",
     "start_time": "2025-07-14T13:24:11.659726Z"
    }
   },
   "outputs": [
    {
     "name": "stdout",
     "output_type": "stream",
     "text": [
      "0 올여름 장마가 17일 제주도에서 시작됐다. 서울 등 중부지방은 예년보다 사나흘 정도 늦은 이달 말께 장마가 시작될 전망이다.17일 기상청에 따르면 제주도 남쪽 먼바다에 있는 장마전선의 영향으로 이날 제주도 산간 및 내륙지역에 호우주의보가 내려지면서 곳곳에 100㎜에 육박하는 많은 비가 내렸다. 제주의 장마는 평년보다 2~3일, 지난해보다는 하루 일찍 시작됐다. 장마는 고온다습한 북태평양 기단과 한랭 습윤한 오호츠크해 기단이 만나 형성되는 장마전선에서 내리는 비를 뜻한다.장마전선은 18일 제주도 먼 남쪽 해상으로 내려갔다가 20일께 다시 북상해 전남 남해안까지 영향을 줄 것으로 보인다. 이에 따라 20~21일 남부지방에도 예년보다 사흘 정도 장마가 일찍 찾아올 전망이다. 그러나 장마전선을 밀어올리는 북태평양 고기압 세력이 약해 서울 등 중부지방은 평년보다 사나흘가량 늦은 이달 말부터 장마가 시작될 것이라는 게 기상청의 설명이다. 장마전선은 이후 한 달가량 한반도 중남부를 오르내리며 곳곳에 비를 뿌릴 전망이다. 최근 30년간 평균치에 따르면 중부지방의 장마 시작일은 6월24~25일이었으며 장마기간은 32일, 강수일수는 17.2일이었다.기상청은 올해 장마기간의 평균 강수량이 350~400㎜로 평년과 비슷하거나 적을 것으로 내다봤다. 브라질 월드컵 한국과 러시아의 경기가 열리는 18일 오전 서울은 대체로 구름이 많이 끼지만 비는 오지 않을 것으로 예상돼 거리 응원에는 지장이 없을 전망이다. \n",
      "-------------------------------\n",
      "920 연구 결과에 따르면, 오리너구리의 눈은 대부분의 포유류보다는 어류인 칠성장어나 먹장어, 그 중에서도 태평양먹장어(Eptatretus stoutii)와 구조가 비슷하다. 게다가 오리너구리의 눈에서는 같은 포유류에게서 찾아보기 힘든 이중 원추세포가 발견된다. \n",
      "\n",
      "크게 발달하지도 않았고 물 속에서도 시야 확보를 위하여 쓰이지 않는 눈이지만, 오리너구리의 조상뻘 되는 종들이 한때 시각에 보다 크게 의존했다는 증거는 많이 남아 있다. 오리너구리의 눈 구조를 살펴보면 수정체와 그와 접하는 각막 표면은 평평한 데 비해 안구 쪽을 향하는 수정체 표면은 볼록한데, 이것은 수달 및 바다사자 등 수서성 포유류의 눈에서 알 수 있는 대표적인 특징이다.\n",
      "\n",
      "관자뼈 쪽에는 망막신경절세포가 집중되어 있는데, 이는 시야를 대폭 넓혀 양안시(兩眼視) 동물이 사냥 및 포식 행위를 하는 데 중요한 역할을 한다. 이와 같은 특질을 통해 오리너구리가 물 속에서의 시각을 도태시킨 대신 전기수용 체계를 발달시켜 수중·야간 활동에 성공적으로 적응하여 진화했다는 것을 알 수 있다 \n",
      "-------------------------------\n",
      "921 연구 결과에 따르면, 오리너구리의 눈은 대부분의 포유류보다는 어류인 칠성장어나 먹장어, 그 중에서도 태평양먹장어(Eptatretus stoutii)와 구조가 비슷하다. 게다가 오리너구리의 눈에서는 같은 포유류에게서 찾아보기 힘든 이중 원추세포가 발견된다. \n",
      "\n",
      "크게 발달하지도 않았고 물 속에서도 시야 확보를 위하여 쓰이지 않는 눈이지만, 오리너구리의 조상뻘 되는 종들이 한때 시각에 보다 크게 의존했다는 증거는 많이 남아 있다. 오리너구리의 눈 구조를 살펴보면 수정체와 그와 접하는 각막 표면은 평평한 데 비해 안구 쪽을 향하는 수정체 표면은 볼록한데, 이것은 수달 및 바다사자 등 수서성 포유류의 눈에서 알 수 있는 대표적인 특징이다.\n",
      "\n",
      "관자뼈 쪽에는 망막신경절세포가 집중되어 있는데, 이는 시야를 대폭 넓혀 양안시(兩眼視) 동물이 사냥 및 포식 행위를 하는 데 중요한 역할을 한다. 이와 같은 특질을 통해 오리너구리가 물 속에서의 시각을 도태시킨 대신 전기수용 체계를 발달시켜 수중·야간 활동에 성공적으로 적응하여 진화했다는 것을 알 수 있다 \n",
      "-------------------------------\n"
     ]
    }
   ],
   "source": [
    "for idx in indices[0]:\n",
    "    print(idx, train_data_set['context'][int(idx)], '\\n-------------------------------')"
   ]
  },
  {
   "cell_type": "code",
   "execution_count": 8,
   "id": "21a2a84d75648c12",
   "metadata": {
    "ExecuteTime": {
     "end_time": "2025-07-14T13:24:36.870597Z",
     "start_time": "2025-07-14T13:24:36.799707Z"
    }
   },
   "outputs": [
    {
     "name": "stdout",
     "output_type": "stream",
     "text": [
      "태평양 전쟁 중 뉴기니 방면에서 진공 작전을 실시해 온 더글러스 맥아더 장군을 사령관으로 \n",
      "태평양 전쟁 중 뉴기니 방면에서 진공 작전을 실시해 온 더글러스 맥아더 장군을 사령관으로 \n",
      "미국 세인트루이스에서 태어났고, 프린스턴 대학교에서 학사 학위를 마치고 1939년에 로체스\n"
     ]
    }
   ],
   "source": [
    "# 예제 10.12 의미 검색의 한계\n",
    "\n",
    "query = klue_mrc_dataset[3]['question']  # 로버트 헨리 딕이 1946년에 매사추세츠 연구소에서 개발한 것은 무엇인가?\n",
    "query_embedding = sentence_model.encode([query])\n",
    "distances, indices = index.search(query_embedding, 3)\n",
    "\n",
    "for idx in indices[0]:\n",
    "    print(klue_mrc_dataset['context'][int(idx)][:50])"
   ]
  },
  {
   "cell_type": "markdown",
   "id": "d1f3e1b1b67a1d58",
   "metadata": {},
   "source": [
    "## 10.3.2 라마인덱스에서 Sentence-Transformers 모델 사용하기\n"
   ]
  },
  {
   "cell_type": "code",
   "execution_count": 9,
   "id": "2d6d0ef15212c2e0",
   "metadata": {
    "ExecuteTime": {
     "end_time": "2025-07-14T13:33:55.151080Z",
     "start_time": "2025-07-14T13:33:49.171328Z"
    }
   },
   "outputs": [
    {
     "name": "stdout",
     "output_type": "stream",
     "text": [
      "LLM is explicitly disabled. Using MockLLM.\n"
     ]
    },
    {
     "data": {
      "text/plain": [
       "<llama_index.core.indices.vector_store.base.VectorStoreIndex at 0x33b1e8590>"
      ]
     },
     "execution_count": 9,
     "metadata": {},
     "output_type": "execute_result"
    }
   ],
   "source": [
    "# 예제 10.13 라마인덱스에서 Sentence-Transformers 임베딩 모델 활용\n",
    "\n",
    "from llama_index.core import VectorStoreIndex, ServiceContext\n",
    "from llama_index.core import Document, Settings\n",
    "from llama_index.embeddings.huggingface import HuggingFaceEmbedding\n",
    "\n",
    "Settings.llm = None  # LLM을 사용하지 않으므로 None으로 설정\n",
    "Settings.embed_model = HuggingFaceEmbedding(model_name=\"snunlp/KR-SBERT-V40K-klueNLI-augSTS\")\n",
    "\n",
    "# 로컬 모델 활용하기\n",
    "# service_context = ServiceContext.from_defaults(embed_model=\"local\")\n",
    "\n",
    "text_list = klue_mrc_dataset[:100]['context']\n",
    "documents = [Document(text=t) for t in text_list]\n",
    "\n",
    "index_llama = VectorStoreIndex.from_documents(documents)\n",
    "index_llama"
   ]
  },
  {
   "cell_type": "code",
   "execution_count": null,
   "id": "976c71608575367b",
   "metadata": {},
   "outputs": [],
   "source": []
  }
 ],
 "metadata": {
  "kernelspec": {
   "display_name": "Python 3 (ipykernel)",
   "language": "python",
   "name": "python3"
  },
  "language_info": {
   "codemirror_mode": {
    "name": "ipython",
    "version": 3
   },
   "file_extension": ".py",
   "mimetype": "text/x-python",
   "name": "python",
   "nbconvert_exporter": "python",
   "pygments_lexer": "ipython3",
   "version": "3.13.0"
  }
 },
 "nbformat": 4,
 "nbformat_minor": 5
}
