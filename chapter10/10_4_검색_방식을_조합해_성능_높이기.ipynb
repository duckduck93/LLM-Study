{
 "cells": [
  {
   "cell_type": "markdown",
   "id": "52a491a9f3a2accc",
   "metadata": {},
   "source": [
    "# 10.4 검색 방식을 조합해 성능 높이기\n",
    "- hybrid search\n",
    "- 키워드 검색은 동일 키워드가 많이 포함될수록 높은 유사도"
   ]
  },
  {
   "cell_type": "markdown",
   "id": "8c32babcd2b9afbc",
   "metadata": {},
   "source": [
    "## 10.4.1 키워드 검색 방식: BM25\n",
    "- BM25는 TF-IDF와 유사한 통계 기반 스코어링 방법, TF-IDF에 문서 길이에 대한 가중치를 추가한 알고리즘\n",
    "- ElasticSearch와 같은 검색 엔진에서 기본적으로 사용되는 알고리즘\n",
    "- https://en.wikipedia.org/wiki/Okapi_BM25\n",
    "    - BM25 수식\n",
    "    $$\\sum _{i=1}^{n}{\\text{IDF}}(q_{i})\\cdot {\\frac {f(q_{i},D)\\cdot (k_{1}+1)}{f(q_{i},D)+k_{1}\\cdot \\left(1-b+b\\cdot {\\frac {|D|}{\\text{avgdl}}}\\right)}}$$\n",
    "\n",
    "    - BM25 IDF 계산식\n",
    "    $${\\text{IDF}}(q_{i})=\\ln \\left({\\frac {N-n(q_{i})+0.5}{n(q_{i})+0.5}}+1\\right)$$\n",
    "\n"
   ]
  },
  {
   "cell_type": "markdown",
   "id": "ac750b629287f06d",
   "metadata": {},
   "source": [
    "## 10.4.2 상호 순위 조합 이해하기\n"
   ]
  }
 ],
 "metadata": {
  "kernelspec": {
   "display_name": "Python 3 (ipykernel)",
   "language": "python",
   "name": "python3"
  },
  "language_info": {
   "codemirror_mode": {
    "name": "ipython",
    "version": 3
   },
   "file_extension": ".py",
   "mimetype": "text/x-python",
   "name": "python",
   "nbconvert_exporter": "python",
   "pygments_lexer": "ipython3",
   "version": "3.13.0"
  }
 },
 "nbformat": 4,
 "nbformat_minor": 5
}
