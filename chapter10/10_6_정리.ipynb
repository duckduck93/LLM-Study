{
 "cells": [
  {
   "metadata": {},
   "cell_type": "markdown",
   "source": [
    "# 10.6 정리\n",
    "\n",
    "- 원핫 인코딩, 백오브워즈, TF-IDF\n",
    "- 워드투벡\n",
    "- 문장 임베딩\n",
    "    - 바이 인코더\n",
    "        - pooling\n",
    "        - Sentence-Transformers 라이브러리\n",
    "    - 교차 인코더\n",
    "- BM25\n",
    "- 하이브리드 검색"
   ],
   "id": "9cd0fdb58118d05f"
  }
 ],
 "metadata": {
  "kernelspec": {
   "display_name": "Python 3",
   "language": "python",
   "name": "python3"
  },
  "language_info": {
   "codemirror_mode": {
    "name": "ipython",
    "version": 2
   },
   "file_extension": ".py",
   "mimetype": "text/x-python",
   "name": "python",
   "nbconvert_exporter": "python",
   "pygments_lexer": "ipython2",
   "version": "2.7.6"
  }
 },
 "nbformat": 4,
 "nbformat_minor": 5
}
